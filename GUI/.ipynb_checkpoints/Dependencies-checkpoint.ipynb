{
 "cells": [
  {
   "cell_type": "markdown",
   "metadata": {},
   "source": [
    "# DEPENDENCIES"
   ]
  },
  {
   "cell_type": "markdown",
   "metadata": {},
   "source": [
    "## READING/WRITING TIFF FILES"
   ]
  },
  {
   "cell_type": "raw",
   "metadata": {},
   "source": [
    "GNU for Windows:\n",
    "- TIFF binaries at <http://gnuwin32.sourceforge.net/packages/tiff-win32.htm>\n",
    "   - after installing with .exe, add C:\\\\Program Files\\\\GnuWin32\\\\bin to PATH variables\n",
    "- pylibtiff package with pip install libtiff\n",
    "    - has TIFF as a dependency\n",
    "    \n",
    "GDAL\n",
    "- best way: install gdal and python bindings thru OSgeo4W installer at <https://trac.osgeo.org/osgeo4w/wiki>"
   ]
  },
  {
   "cell_type": "code",
   "execution_count": null,
   "metadata": {
    "collapsed": true
   },
   "outputs": [],
   "source": []
  }
 ],
 "metadata": {
  "kernelspec": {
   "display_name": "Python 2",
   "language": "python",
   "name": "python2"
  },
  "language_info": {
   "codemirror_mode": {
    "name": "ipython",
    "version": 2
   },
   "file_extension": ".py",
   "mimetype": "text/x-python",
   "name": "python",
   "nbconvert_exporter": "python",
   "pygments_lexer": "ipython2",
   "version": "2.7.13"
  }
 },
 "nbformat": 4,
 "nbformat_minor": 2
}
